{
 "cells": [
  {
   "cell_type": "code",
   "execution_count": 3,
   "metadata": {
    "collapsed": true
   },
   "outputs": [],
   "source": [
    "# （100分） 作业要求：\n",
    "# 1、成功读取“商铺数据.csv”文件\n",
    "# 2、解析数据，存成列表字典格式：[{'var1':value1,'var2':value2,'var3':values,...},...,{}]\n",
    "# 3、数据清洗：\n",
    "# ① comment，price两个字段清洗成数字\n",
    "# ② 清除字段缺失的数据\n",
    "# ③ commentlist拆分成三个字段，并且清洗成数字\n",
    "# 4、结果存为.pkl文件\n",
    "# 提交方式：\n",
    "# 需要学员将答案代码以Python语言的形式，复制粘贴进答题框"
   ]
  },
  {
   "cell_type": "code",
   "execution_count": 27,
   "metadata": {
    "scrolled": true
   },
   "outputs": [
    {
     "name": "stdout",
     "output_type": "stream",
     "text": [
      "8.4\n",
      "7.6\n"
     ]
    },
    {
     "data": {
      "text/plain": [
       "0"
      ]
     },
     "execution_count": 27,
     "metadata": {},
     "output_type": "execute_result"
    }
   ],
   "source": [
    "import os\n",
    "f = open('D:/数据分析师之路/大鹏城市数据分析/课程表/项目01商铺数据加载及存储_资料/商铺数据.csv',encoding='utf-8')\n",
    "for i in f.readlines()[1:3]: # 成功读取“商铺数据.csv”文件 且读取前5行\n",
    "    print(i.split(',')[6].split('                                ')[1][2:])\n",
    "f.seek(0)"
   ]
  },
  {
   "cell_type": "code",
   "execution_count": 60,
   "metadata": {
    "collapsed": true
   },
   "outputs": [],
   "source": [
    "def fcm(s):\n",
    "    if '条' in s:\n",
    "        return int(s.split(' ')[0])\n",
    "    else:\n",
    "        return '缺失数据'\n",
    "def fpr(s):\n",
    "    if '￥' in s:\n",
    "        return float(s.split('￥')[-1])\n",
    "    else:\n",
    "        return  '缺失数据'\n",
    "def fcl(s):\n",
    "    if  '' in s:\n",
    "        quality = float(s.split('                                ')[0][2:])\n",
    "        environment = float(s.split('                                ')[1][2:])\n",
    "        service = float(s.split('                                ')[2][2:])\n",
    "        return [quality,environment,service]\n",
    "    else:\n",
    "        return  '缺失数据'"
   ]
  },
  {
   "cell_type": "code",
   "execution_count": 70,
   "metadata": {},
   "outputs": [
    {
     "name": "stdout",
     "output_type": "stream",
     "text": [
      "['美食', '望蓉城老坛酸菜鱼(合生汇店)', '我要点评', '该商户暂无星级', '人均                                        ￥125', '翔殷路1099号合生汇5F', '口味8.3                                环境8.4                                服务8.5\\n']\n",
      "['美食', '泰国街边料理', '74                    条点评', '准四星商户', '人均                                        ￥48', '黄兴路合生汇B2美食集市内', '口味7.4                                环境7.6                                服务7.4\\n']\n",
      "['美食', '壹面如故(苏宁生活广场店)', '265                    条点评', '准四星商户', '人均                                        ￥21', '邯郸路585号苏宁生活广场B1层', '口味7.0                                环境7.2                                服务7.2\\n']\n",
      "['美食', '鮨谷•Aburiya(合生汇店)', '2748                    条点评', '准五星商户', '人均                                        ￥142', '翔殷路1099号合生广场5楼23、28铺位', '口味8.9                                环境8.5                                服务8.4\\n']\n",
      "['美食', '我们的烤肉我们的馕', '5                    条点评', '准四星商户', '人均                                    -', '邯郸路399-D3号', '口味7.5                                环境6.8                                服务7.5\\n']\n",
      "['美食', '麦当劳(万达店)', '785                    条点评', '准四星商户', '人均                                        ￥24', '邯郸路600号万达商业广场B1楼A05号铺', '口味7.4                                环境7.2                                服务7.2\\n']\n",
      "['美食', '蒸年青STEAMYOUNG(百联又一城购物中心店)', '3779                    条点评', '准五星商户', '人均                                        ￥70', '淞沪路8号百联又一城购物中心7层', '口味8.6                                环境8.6                                服务8.6\\n']\n",
      "['美食', '丸来玩趣(百联又一城购物中心店)', '458                    条点评', '准四星商户', '人均                                        ￥14', '淞沪路8号百联又一城购物中心B1层', '口味7.0                                环境6.5                                服务6.5\\n']\n",
      "['美食', '韩国雪冰(合生汇店)', '1280                    条点评', '四星商户', '人均                                        ￥47', '翔殷路1099号合生汇4F', '口味7.7                                环境7.5                                服务7.6\\n']\n",
      "['美食', '小菜园新徽菜(五角场万达广场店)', '85                    条点评', '准五星商户', '人均                                        ￥81', '邯郸路600号万达商业广场特力时尚汇3层', '口味8.5                                环境8.9                                服务9.0\\n']\n",
      "['美食', '生日聚汇(杨浦店)', '2                    条点评', '准四星商户', '人均                                    -', '淞沪路8号百联又一城6楼', '口味7.0                                环境7.0                                服务7.0\\n']\n",
      "['美食', '阿满鸡排(合生汇店)', '30                    条点评', '四星商户', '人均                                        ￥17', '翔殷路1099号合生汇4层', '口味7.9                                环境8.0                                服务7.7\\n']\n",
      "['美食', '莆田餐厅(百联又一城购物中心店)', '988                    条点评', '四星商户', '人均                                        ￥150', '淞沪路8号百联又一城购物中心7层', '口味8.0                                环境8.4                                服务8.0\\n']\n",
      "['美食', '旬彩(百联又一城购物中心店)', '152                    条点评', '准四星商户', '人均                                        ￥16', '淞沪路8号百联又一城购物中心B1层', '口味7.2                                环境7.1                                服务7.2\\n']\n",
      "['美食', '吴茂兴本帮面(五角场店)', '72                    条点评', '准四星商户', '人均                                        ￥21', '政旦东路34号', '口味7.4                                环境7.4                                服务7.6\\n']\n",
      "['美食', '雀舞云南菜(合生汇店)', '3627                    条点评', '四星商户', '人均                                        ￥99', '翔殷路1099号合生汇5F', '口味8.0                                环境8.5                                服务8.6\\n']\n",
      "['美食', '开心膳(joyeusesalade悦沙拉五角场店)', '4                    条点评', '准四星商户', '人均                                    -', '邯郸路600号四楼D-001', '口味7.4                                环境7.4                                服务7.4\\n']\n",
      "['美食', '阳光客(城市集市合生汇店)', '336                    条点评', '准四星商户', '人均                                        ￥79', '黄兴路2228号合生汇B2层城市集市C8商户', '口味7.1                                环境7.6                                服务7.7\\n']\n",
      "['美食', '越打星YuetDaSing(合生汇店)', '264                    条点评', '四星商户', '人均                                        ￥48', '翔殷路1099号合生汇B2城市集市C9', '口味8.0                                环境7.7                                服务7.8\\n']\n",
      "[{'classify': '美食', 'name': '泰国街边料理', 'comment_count': 74, 'star': '准四星商户', 'price': 48.0, 'address': '黄兴路合生汇B2美食集市内', 'quality': 7.4, 'environment': 7.6, 'service': 7.4}, {'classify': '美食', 'name': '壹面如故(苏宁生活广场店)', 'comment_count': 265, 'star': '准四星商户', 'price': 21.0, 'address': '邯郸路585号苏宁生活广场B1层', 'quality': 7.0, 'environment': 7.2, 'service': 7.2}, {'classify': '美食', 'name': '鮨谷•Aburiya(合生汇店)', 'comment_count': 2748, 'star': '准五星商户', 'price': 142.0, 'address': '翔殷路1099号合生广场5楼23、28铺位', 'quality': 8.9, 'environment': 8.5, 'service': 8.4}, {'classify': '美食', 'name': '麦当劳(万达店)', 'comment_count': 785, 'star': '准四星商户', 'price': 24.0, 'address': '邯郸路600号万达商业广场B1楼A05号铺', 'quality': 7.4, 'environment': 7.2, 'service': 7.2}, {'classify': '美食', 'name': '蒸年青STEAMYOUNG(百联又一城购物中心店)', 'comment_count': 3779, 'star': '准五星商户', 'price': 70.0, 'address': '淞沪路8号百联又一城购物中心7层', 'quality': 8.6, 'environment': 8.6, 'service': 8.6}, {'classify': '美食', 'name': '丸来玩趣(百联又一城购物中心店)', 'comment_count': 458, 'star': '准四星商户', 'price': 14.0, 'address': '淞沪路8号百联又一城购物中心B1层', 'quality': 7.0, 'environment': 6.5, 'service': 6.5}, {'classify': '美食', 'name': '韩国雪冰(合生汇店)', 'comment_count': 1280, 'star': '四星商户', 'price': 47.0, 'address': '翔殷路1099号合生汇4F', 'quality': 7.7, 'environment': 7.5, 'service': 7.6}, {'classify': '美食', 'name': '小菜园新徽菜(五角场万达广场店)', 'comment_count': 85, 'star': '准五星商户', 'price': 81.0, 'address': '邯郸路600号万达商业广场特力时尚汇3层', 'quality': 8.5, 'environment': 8.9, 'service': 9.0}, {'classify': '美食', 'name': '阿满鸡排(合生汇店)', 'comment_count': 30, 'star': '四星商户', 'price': 17.0, 'address': '翔殷路1099号合生汇4层', 'quality': 7.9, 'environment': 8.0, 'service': 7.7}, {'classify': '美食', 'name': '莆田餐厅(百联又一城购物中心店)', 'comment_count': 988, 'star': '四星商户', 'price': 150.0, 'address': '淞沪路8号百联又一城购物中心7层', 'quality': 8.0, 'environment': 8.4, 'service': 8.0}, {'classify': '美食', 'name': '旬彩(百联又一城购物中心店)', 'comment_count': 152, 'star': '准四星商户', 'price': 16.0, 'address': '淞沪路8号百联又一城购物中心B1层', 'quality': 7.2, 'environment': 7.1, 'service': 7.2}, {'classify': '美食', 'name': '吴茂兴本帮面(五角场店)', 'comment_count': 72, 'star': '准四星商户', 'price': 21.0, 'address': '政旦东路34号', 'quality': 7.4, 'environment': 7.4, 'service': 7.6}, {'classify': '美食', 'name': '雀舞云南菜(合生汇店)', 'comment_count': 3627, 'star': '四星商户', 'price': 99.0, 'address': '翔殷路1099号合生汇5F', 'quality': 8.0, 'environment': 8.5, 'service': 8.6}, {'classify': '美食', 'name': '阳光客(城市集市合生汇店)', 'comment_count': 336, 'star': '准四星商户', 'price': 79.0, 'address': '黄兴路2228号合生汇B2层城市集市C8商户', 'quality': 7.1, 'environment': 7.6, 'service': 7.7}, {'classify': '美食', 'name': '越打星YuetDaSing(合生汇店)', 'comment_count': 264, 'star': '四星商户', 'price': 48.0, 'address': '翔殷路1099号合生汇B2城市集市C9', 'quality': 8.0, 'environment': 7.7, 'service': 7.8}]\n"
     ]
    }
   ],
   "source": [
    "# 数据清洗\n",
    "\n",
    "datalst = []  # 创建空列表\n",
    "\n",
    "f.seek(0) ## seek()方法，从0开始移动，应该不可能是移动0\n",
    "n = 0  # 创建计数变量\n",
    "for i in f.readlines()[1:20]: ## 后面跟着1:20是从第一行，到第19行吗？\n",
    "    data = i.split(',') ## 把这些数据拆分成列表\n",
    "    print(data)\n",
    "    classify = data[0]             # 提取分类\n",
    "    name = data[1]                 # 提取店铺名称\n",
    "    comment_count = fcm(data[2])   # 提取评论数量\n",
    "    star = data[3]                 # 提取星级\n",
    "    price = fpr(data[4])           # 提取人均\n",
    "    add = data[5]                  # 提取地址\n",
    "    qua = fcl(data[6])[0]          # 提取质量评分\n",
    "    env = fcl(data[6])[1]          # 提取环境评分\n",
    "    ser = fcl(data[6])[2]          # 提取服务评分\n",
    "    if  '缺失数据' not in [comment_count, price, qua]:   # 用于判断是否有数据缺失 ## 这一段及下面的真看不太懂\n",
    "        n += 1\n",
    "        data_re = [['classify',classify],\n",
    "                  ['name',name],\n",
    "                  ['comment_count',comment_count],\n",
    "                  ['star',star],\n",
    "                  ['price',price],\n",
    "                  ['address',add],\n",
    "                  ['quality',qua],\n",
    "                  ['environment',env],\n",
    "                  ['service',ser]]\n",
    "        datalst.append(dict(data_re))   # 生成字典，并存入列表datalst\n",
    "#         print('成功加载%i条数据' %n) ## 用到了上面的计数变量\n",
    "    else:\n",
    "        continue\n",
    "    \n",
    "print(datalst) \n",
    "# print('总共加载%i条数据' %n)\n"
   ]
  },
  {
   "cell_type": "code",
   "execution_count": 28,
   "metadata": {},
   "outputs": [
    {
     "ename": "NameError",
     "evalue": "name 'data' is not defined",
     "output_type": "error",
     "traceback": [
      "\u001b[1;31m---------------------------------------------------------------------------\u001b[0m",
      "\u001b[1;31mNameError\u001b[0m                                 Traceback (most recent call last)",
      "\u001b[1;32m<ipython-input-28-c16ad8727dcd>\u001b[0m in \u001b[0;36m<module>\u001b[1;34m()\u001b[0m\n\u001b[0;32m      1\u001b[0m \u001b[1;32mimport\u001b[0m \u001b[0mpickle\u001b[0m\u001b[1;33m\u001b[0m\u001b[0m\n\u001b[1;32m----> 2\u001b[1;33m \u001b[0mst\u001b[0m\u001b[1;33m=\u001b[0m\u001b[0mpickle\u001b[0m\u001b[1;33m.\u001b[0m\u001b[0mload\u001b[0m\u001b[1;33m(\u001b[0m\u001b[0mdata\u001b[0m\u001b[1;33m.\u001b[0m\u001b[0mpkl\u001b[0m\u001b[1;33m)\u001b[0m\u001b[1;33m\u001b[0m\u001b[0m\n\u001b[0m\u001b[0;32m      3\u001b[0m \u001b[0mprint\u001b[0m\u001b[1;33m(\u001b[0m\u001b[0mst\u001b[0m\u001b[1;33m)\u001b[0m\u001b[1;33m\u001b[0m\u001b[0m\n",
      "\u001b[1;31mNameError\u001b[0m: name 'data' is not defined"
     ]
    }
   ],
   "source": [
    "import pickle\n",
    "st=pickle.load(data.pkl)\n",
    "print(st)"
   ]
  }
 ],
 "metadata": {
  "kernelspec": {
   "display_name": "Python 3",
   "language": "python",
   "name": "python3"
  },
  "language_info": {
   "codemirror_mode": {
    "name": "ipython",
    "version": 3
   },
   "file_extension": ".py",
   "mimetype": "text/x-python",
   "name": "python",
   "nbconvert_exporter": "python",
   "pygments_lexer": "ipython3",
   "version": "3.6.3"
  }
 },
 "nbformat": 4,
 "nbformat_minor": 2
}
